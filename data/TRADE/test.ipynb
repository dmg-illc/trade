{
 "cells": [
  {
   "cell_type": "code",
   "execution_count": 1,
   "metadata": {},
   "outputs": [],
   "source": [
    "import pandas as pd\n",
    "import json"
   ]
  },
  {
   "cell_type": "code",
   "execution_count": 2,
   "metadata": {},
   "outputs": [],
   "source": [
    "trade = pd.read_csv('TRADE.csv')\n",
    "control = json.load(open('trade_control.json', 'r'))"
   ]
  },
  {
   "cell_type": "code",
   "execution_count": 3,
   "metadata": {},
   "outputs": [],
   "source": [
    "trade_control = pd.DataFrame({'matching_explanation': trade.matching_explanation})"
   ]
  },
  {
   "cell_type": "code",
   "execution_count": 5,
   "metadata": {},
   "outputs": [],
   "source": [
    "trade_control['distractor_1'] = trade_control.matching_explanation.values[control['split_1']['dist1']]\n",
    "trade_control['distractor_2'] = trade_control.matching_explanation.values[control['split_1']['dist2']]"
   ]
  },
  {
   "cell_type": "code",
   "execution_count": 6,
   "metadata": {},
   "outputs": [
    {
     "data": {
      "text/html": [
       "<div>\n",
       "<style scoped>\n",
       "    .dataframe tbody tr th:only-of-type {\n",
       "        vertical-align: middle;\n",
       "    }\n",
       "\n",
       "    .dataframe tbody tr th {\n",
       "        vertical-align: top;\n",
       "    }\n",
       "\n",
       "    .dataframe thead th {\n",
       "        text-align: right;\n",
       "    }\n",
       "</style>\n",
       "<table border=\"1\" class=\"dataframe\">\n",
       "  <thead>\n",
       "    <tr style=\"text-align: right;\">\n",
       "      <th></th>\n",
       "      <th>matching_explanation</th>\n",
       "      <th>distractor_1</th>\n",
       "      <th>distractor_2</th>\n",
       "    </tr>\n",
       "  </thead>\n",
       "  <tbody>\n",
       "    <tr>\n",
       "      <th>0</th>\n",
       "      <td>I should buy the watch because it makes the pe...</td>\n",
       "      <td>I should buy IBM products because they have a ...</td>\n",
       "      <td>i should not vote for Clinton because she want...</td>\n",
       "    </tr>\n",
       "    <tr>\n",
       "      <th>1</th>\n",
       "      <td>I should buy and drink Ovaltine because it wil...</td>\n",
       "      <td>I should drink this soda because its better an...</td>\n",
       "      <td>i should fly Aero Republica because they are s...</td>\n",
       "    </tr>\n",
       "    <tr>\n",
       "      <th>2</th>\n",
       "      <td>I should smoke Chesterfield cigarettes because...</td>\n",
       "      <td>I should buy a mazda because they are a winnin...</td>\n",
       "      <td>I should buy eye lift creme  because my eyes n...</td>\n",
       "    </tr>\n",
       "    <tr>\n",
       "      <th>3</th>\n",
       "      <td>I should buy this make up because it will make...</td>\n",
       "      <td>I should buy an imac because it is the compute...</td>\n",
       "      <td>I shouldn't smoke because it shortens my life.</td>\n",
       "    </tr>\n",
       "    <tr>\n",
       "      <th>4</th>\n",
       "      <td>I should apply to work with Ascentium Capital ...</td>\n",
       "      <td>I should wear this cologne so I can be free</td>\n",
       "      <td>I should buy this Mitsubishi car.  because i c...</td>\n",
       "    </tr>\n",
       "  </tbody>\n",
       "</table>\n",
       "</div>"
      ],
      "text/plain": [
       "                                matching_explanation  \\\n",
       "0  I should buy the watch because it makes the pe...   \n",
       "1  I should buy and drink Ovaltine because it wil...   \n",
       "2  I should smoke Chesterfield cigarettes because...   \n",
       "3  I should buy this make up because it will make...   \n",
       "4  I should apply to work with Ascentium Capital ...   \n",
       "\n",
       "                                        distractor_1  \\\n",
       "0  I should buy IBM products because they have a ...   \n",
       "1  I should drink this soda because its better an...   \n",
       "2  I should buy a mazda because they are a winnin...   \n",
       "3  I should buy an imac because it is the compute...   \n",
       "4        I should wear this cologne so I can be free   \n",
       "\n",
       "                                        distractor_2  \n",
       "0  i should not vote for Clinton because she want...  \n",
       "1  i should fly Aero Republica because they are s...  \n",
       "2  I should buy eye lift creme  because my eyes n...  \n",
       "3     I shouldn't smoke because it shortens my life.  \n",
       "4  I should buy this Mitsubishi car.  because i c...  "
      ]
     },
     "execution_count": 6,
     "metadata": {},
     "output_type": "execute_result"
    }
   ],
   "source": [
    "trade_control.head()"
   ]
  }
 ],
 "metadata": {
  "kernelspec": {
   "display_name": "ads-env",
   "language": "python",
   "name": "python3"
  },
  "language_info": {
   "codemirror_mode": {
    "name": "ipython",
    "version": 3
   },
   "file_extension": ".py",
   "mimetype": "text/x-python",
   "name": "python",
   "nbconvert_exporter": "python",
   "pygments_lexer": "ipython3",
   "version": "3.10.13"
  }
 },
 "nbformat": 4,
 "nbformat_minor": 2
}
