{
 "cells": [
  {
   "cell_type": "code",
   "execution_count": 6,
   "metadata": {},
   "outputs": [],
   "source": [
    "import pandas as pd"
   ]
  },
  {
   "cell_type": "code",
   "execution_count": 7,
   "metadata": {},
   "outputs": [
    {
     "data": {
      "text/html": [
       "<div>\n",
       "<style scoped>\n",
       "    .dataframe tbody tr th:only-of-type {\n",
       "        vertical-align: middle;\n",
       "    }\n",
       "\n",
       "    .dataframe tbody tr th {\n",
       "        vertical-align: top;\n",
       "    }\n",
       "\n",
       "    .dataframe thead th {\n",
       "        text-align: right;\n",
       "    }\n",
       "</style>\n",
       "<table border=\"1\" class=\"dataframe\">\n",
       "  <thead>\n",
       "    <tr style=\"text-align: right;\">\n",
       "      <th></th>\n",
       "      <th>image_path</th>\n",
       "      <th>distractor_1</th>\n",
       "      <th>distractor_2</th>\n",
       "      <th>ar</th>\n",
       "      <th>annotator_id</th>\n",
       "    </tr>\n",
       "  </thead>\n",
       "  <tbody>\n",
       "    <tr>\n",
       "      <th>0</th>\n",
       "      <td>142269.jpg</td>\n",
       "      <td>I should buy the watch because I'm a man who h...</td>\n",
       "      <td>I should buy the perfect gift because watches ...</td>\n",
       "      <td>I should buy the watch because it makes the pe...</td>\n",
       "      <td>1</td>\n",
       "    </tr>\n",
       "    <tr>\n",
       "      <th>1</th>\n",
       "      <td>111237.jpg</td>\n",
       "      <td>I should drink Ovaltine in the morning because...</td>\n",
       "      <td>I should buy Ovaltine because their beds will ...</td>\n",
       "      <td>I should buy and drink Ovaltine because it wil...</td>\n",
       "      <td>1</td>\n",
       "    </tr>\n",
       "    <tr>\n",
       "      <th>2</th>\n",
       "      <td>134982.jpg</td>\n",
       "      <td>I shouldn't smoke Chesterfield cigarettes beca...</td>\n",
       "      <td>I should smoke scientific evidence because it ...</td>\n",
       "      <td>I should smoke Chesterfield cigarettes because...</td>\n",
       "      <td>1</td>\n",
       "    </tr>\n",
       "    <tr>\n",
       "      <th>3</th>\n",
       "      <td>125683.jpg</td>\n",
       "      <td>I should buy this make up because I love takin...</td>\n",
       "      <td>I should buy this shampoo because it will make...</td>\n",
       "      <td>I should buy this make up because it will make...</td>\n",
       "      <td>1</td>\n",
       "    </tr>\n",
       "    <tr>\n",
       "      <th>4</th>\n",
       "      <td>117607.jpg</td>\n",
       "      <td>I should apply to work with Ascentium Capital ...</td>\n",
       "      <td>I should apply to work with Ascentium Capital ...</td>\n",
       "      <td>I should apply to work with Ascentium Capital ...</td>\n",
       "      <td>1</td>\n",
       "    </tr>\n",
       "  </tbody>\n",
       "</table>\n",
       "</div>"
      ],
      "text/plain": [
       "   image_path                                       distractor_1  \\\n",
       "0  142269.jpg  I should buy the watch because I'm a man who h...   \n",
       "1  111237.jpg  I should drink Ovaltine in the morning because...   \n",
       "2  134982.jpg  I shouldn't smoke Chesterfield cigarettes beca...   \n",
       "3  125683.jpg  I should buy this make up because I love takin...   \n",
       "4  117607.jpg  I should apply to work with Ascentium Capital ...   \n",
       "\n",
       "                                        distractor_2  \\\n",
       "0  I should buy the perfect gift because watches ...   \n",
       "1  I should buy Ovaltine because their beds will ...   \n",
       "2  I should smoke scientific evidence because it ...   \n",
       "3  I should buy this shampoo because it will make...   \n",
       "4  I should apply to work with Ascentium Capital ...   \n",
       "\n",
       "                                                  ar  annotator_id  \n",
       "0  I should buy the watch because it makes the pe...             1  \n",
       "1  I should buy and drink Ovaltine because it wil...             1  \n",
       "2  I should smoke Chesterfield cigarettes because...             1  \n",
       "3  I should buy this make up because it will make...             1  \n",
       "4  I should apply to work with Ascentium Capital ...             1  "
      ]
     },
     "execution_count": 7,
     "metadata": {},
     "output_type": "execute_result"
    }
   ],
   "source": [
    "df = pd.read_csv('/Users/anna/Documents/Code/ads-official/data/TRADE.csv')\n",
    "df.head()"
   ]
  },
  {
   "cell_type": "code",
   "execution_count": 8,
   "metadata": {},
   "outputs": [],
   "source": [
    "df = df.drop(columns='annotator_id')"
   ]
  },
  {
   "cell_type": "code",
   "execution_count": 9,
   "metadata": {},
   "outputs": [
    {
     "data": {
      "text/html": [
       "<div>\n",
       "<style scoped>\n",
       "    .dataframe tbody tr th:only-of-type {\n",
       "        vertical-align: middle;\n",
       "    }\n",
       "\n",
       "    .dataframe tbody tr th {\n",
       "        vertical-align: top;\n",
       "    }\n",
       "\n",
       "    .dataframe thead th {\n",
       "        text-align: right;\n",
       "    }\n",
       "</style>\n",
       "<table border=\"1\" class=\"dataframe\">\n",
       "  <thead>\n",
       "    <tr style=\"text-align: right;\">\n",
       "      <th></th>\n",
       "      <th>image_path</th>\n",
       "      <th>distractor_1</th>\n",
       "      <th>distractor_2</th>\n",
       "      <th>ar</th>\n",
       "    </tr>\n",
       "  </thead>\n",
       "  <tbody>\n",
       "    <tr>\n",
       "      <th>0</th>\n",
       "      <td>142269.jpg</td>\n",
       "      <td>I should buy the watch because I'm a man who h...</td>\n",
       "      <td>I should buy the perfect gift because watches ...</td>\n",
       "      <td>I should buy the watch because it makes the pe...</td>\n",
       "    </tr>\n",
       "    <tr>\n",
       "      <th>1</th>\n",
       "      <td>111237.jpg</td>\n",
       "      <td>I should drink Ovaltine in the morning because...</td>\n",
       "      <td>I should buy Ovaltine because their beds will ...</td>\n",
       "      <td>I should buy and drink Ovaltine because it wil...</td>\n",
       "    </tr>\n",
       "    <tr>\n",
       "      <th>2</th>\n",
       "      <td>134982.jpg</td>\n",
       "      <td>I shouldn't smoke Chesterfield cigarettes beca...</td>\n",
       "      <td>I should smoke scientific evidence because it ...</td>\n",
       "      <td>I should smoke Chesterfield cigarettes because...</td>\n",
       "    </tr>\n",
       "    <tr>\n",
       "      <th>3</th>\n",
       "      <td>125683.jpg</td>\n",
       "      <td>I should buy this make up because I love takin...</td>\n",
       "      <td>I should buy this shampoo because it will make...</td>\n",
       "      <td>I should buy this make up because it will make...</td>\n",
       "    </tr>\n",
       "    <tr>\n",
       "      <th>4</th>\n",
       "      <td>117607.jpg</td>\n",
       "      <td>I should apply to work with Ascentium Capital ...</td>\n",
       "      <td>I should apply to work with Ascentium Capital ...</td>\n",
       "      <td>I should apply to work with Ascentium Capital ...</td>\n",
       "    </tr>\n",
       "  </tbody>\n",
       "</table>\n",
       "</div>"
      ],
      "text/plain": [
       "   image_path                                       distractor_1  \\\n",
       "0  142269.jpg  I should buy the watch because I'm a man who h...   \n",
       "1  111237.jpg  I should drink Ovaltine in the morning because...   \n",
       "2  134982.jpg  I shouldn't smoke Chesterfield cigarettes beca...   \n",
       "3  125683.jpg  I should buy this make up because I love takin...   \n",
       "4  117607.jpg  I should apply to work with Ascentium Capital ...   \n",
       "\n",
       "                                        distractor_2  \\\n",
       "0  I should buy the perfect gift because watches ...   \n",
       "1  I should buy Ovaltine because their beds will ...   \n",
       "2  I should smoke scientific evidence because it ...   \n",
       "3  I should buy this shampoo because it will make...   \n",
       "4  I should apply to work with Ascentium Capital ...   \n",
       "\n",
       "                                                  ar  \n",
       "0  I should buy the watch because it makes the pe...  \n",
       "1  I should buy and drink Ovaltine because it wil...  \n",
       "2  I should smoke Chesterfield cigarettes because...  \n",
       "3  I should buy this make up because it will make...  \n",
       "4  I should apply to work with Ascentium Capital ...  "
      ]
     },
     "execution_count": 9,
     "metadata": {},
     "output_type": "execute_result"
    }
   ],
   "source": [
    "df.head()"
   ]
  },
  {
   "cell_type": "code",
   "execution_count": 10,
   "metadata": {},
   "outputs": [],
   "source": [
    "df.to_csv('/Users/anna/Documents/Code/ads-official/data/TRADE.csv', index=False)"
   ]
  }
 ],
 "metadata": {
  "kernelspec": {
   "display_name": "ads",
   "language": "python",
   "name": "python3"
  },
  "language_info": {
   "codemirror_mode": {
    "name": "ipython",
    "version": 3
   },
   "file_extension": ".py",
   "mimetype": "text/x-python",
   "name": "python",
   "nbconvert_exporter": "python",
   "pygments_lexer": "ipython3",
   "version": "3.10.13"
  }
 },
 "nbformat": 4,
 "nbformat_minor": 2
}
