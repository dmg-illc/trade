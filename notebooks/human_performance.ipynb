{
 "cells": [
  {
   "cell_type": "code",
   "execution_count": 7,
   "metadata": {},
   "outputs": [],
   "source": [
    "import pandas as pd\n",
    "import numpy as np\n",
    "from src.paths import DATA_FOLDER"
   ]
  },
  {
   "cell_type": "markdown",
   "metadata": {},
   "source": [
    "Loading the dataset"
   ]
  },
  {
   "cell_type": "code",
   "execution_count": 4,
   "metadata": {},
   "outputs": [
    {
     "name": "stdout",
     "output_type": "stream",
     "text": [
      "(936, 28)\n",
      "Index(['_unit_id', '_created_at', '_golden', '_id', '_missed', '_started_at',\n",
      "       '_tainted', '_channel', '_trust', '_worker_id', '_country', '_region',\n",
      "       '_city', '_ip', '_answers_hidden', 'category', 'orig__golden', 'ar',\n",
      "       'category_gold', 'category_gold_reason', 'distractor_1', 'distractor_2',\n",
      "       'image_path', 'image_url', 'is_control', 'option1', 'option2',\n",
      "       'option3'],\n",
      "      dtype='object')\n"
     ]
    }
   ],
   "source": [
    "df = pd.read_csv(DATA_FOLDER / 'TRADE' / 'human_performance.csv')\n",
    "print(df.shape)\n",
    "print(df.columns)"
   ]
  },
  {
   "cell_type": "markdown",
   "metadata": {},
   "source": [
    "Doing some cleaning"
   ]
  },
  {
   "cell_type": "code",
   "execution_count": 5,
   "metadata": {},
   "outputs": [],
   "source": [
    "df.category = df.category.apply(lambda x: x.strip(' '))\n",
    "df.ar = df.ar.apply(lambda x: x.strip(' '))\n",
    "df.option1 = df.option1.apply(lambda x: x.strip(' '))\n",
    "df.option2 = df.option2.apply(lambda x: x.strip(' '))\n",
    "df.option3 = df.option3.apply(lambda x: x.strip(' '))"
   ]
  },
  {
   "cell_type": "code",
   "execution_count": 6,
   "metadata": {},
   "outputs": [
    {
     "name": "stdout",
     "output_type": "stream",
     "text": [
      "(600, 12)\n",
      "(336, 12)\n"
     ]
    }
   ],
   "source": [
    "df_annot = df.loc[df.is_control=='No',[ '_worker_id', 'category', 'ar',\n",
    "        'distractor_1', 'distractor_2',\n",
    "       'image_path', 'image_url', 'is_control', 'option1', 'option2',\n",
    "       'option3', 'category_gold']].reset_index(drop=True)\n",
    "df_test = df.loc[df.is_control=='Yes',[ '_worker_id', 'category', 'ar',\n",
    "        'distractor_1', 'distractor_2','category_gold',\n",
    "       'image_path', 'image_url', 'is_control', 'option1', 'option2',\n",
    "       'option3']].reset_index(drop=True)\n",
    "print(df_annot.shape)\n",
    "print(df_test.shape)"
   ]
  },
  {
   "cell_type": "markdown",
   "metadata": {},
   "source": [
    "Computing accuracy on real trials  - leaving out the test questions that were used only to check whether annotators were actually paying attention to the task"
   ]
  },
  {
   "cell_type": "code",
   "execution_count": 10,
   "metadata": {},
   "outputs": [
    {
     "data": {
      "text/plain": [
       "np.float64(0.9383333333333334)"
      ]
     },
     "execution_count": 10,
     "metadata": {},
     "output_type": "execute_result"
    }
   ],
   "source": [
    "(df_annot.category == df_annot.ar).sum()/len(df_annot)"
   ]
  }
 ],
 "metadata": {
  "kernelspec": {
   "display_name": "ads-env",
   "language": "python",
   "name": "python3"
  },
  "language_info": {
   "codemirror_mode": {
    "name": "ipython",
    "version": 3
   },
   "file_extension": ".py",
   "mimetype": "text/x-python",
   "name": "python",
   "nbconvert_exporter": "python",
   "pygments_lexer": "ipython3",
   "version": "3.10.13"
  }
 },
 "nbformat": 4,
 "nbformat_minor": 2
}
